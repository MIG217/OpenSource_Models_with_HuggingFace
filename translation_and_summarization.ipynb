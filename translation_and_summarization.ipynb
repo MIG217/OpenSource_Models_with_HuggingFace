{
 "cells": [
  {
   "cell_type": "markdown",
   "id": "c297d69f-6bda-40a7-98cf-63d66127ba48",
   "metadata": {},
   "source": [
    "## Translation and Summarization\n",
    "\n",
    "In this task, I will be translating text from English to Franch and summarizing long documents and using open source models from Meta."
   ]
  },
  {
   "cell_type": "markdown",
   "id": "ae32fb5e-f5c2-42fe-bffa-e30e834960f0",
   "metadata": {},
   "source": [
    "### Translation task"
   ]
  },
  {
   "cell_type": "code",
   "execution_count": 1,
   "id": "ee58b3d4-dc10-40c1-9a6d-fa9705acdf13",
   "metadata": {},
   "outputs": [],
   "source": [
    "from transformers import pipeline\n",
    "import torch"
   ]
  },
  {
   "cell_type": "code",
   "execution_count": 6,
   "id": "74dbbd90-9ac0-4ada-8268-485cd68c9681",
   "metadata": {},
   "outputs": [
    {
     "name": "stderr",
     "output_type": "stream",
     "text": [
      "Device set to use mps\n"
     ]
    }
   ],
   "source": [
    "translator = pipeline(task = \"translation\", \n",
    "                    model = \"facebook/nllb-200-distilled-600M\",\n",
    "                    # torch_dtype = torch.bfloat16 # 使用 BFloat16 精度\n",
    "                    device = \"mps\" # 使用 Apple Silicon GPU 加速\n",
    "                    )"
   ]
  },
  {
   "cell_type": "code",
   "execution_count": 7,
   "id": "5cef945b-9846-41c3-978e-bd765aeacd3b",
   "metadata": {},
   "outputs": [],
   "source": [
    "text = \"\"\"\\\n",
    "My puppy is adorable, \\\n",
    "Your kitten is cute.\n",
    "Her panda is friendly.\n",
    "His llama is thoughtful. \\\n",
    "We all have nice pets!\n",
    "\"\"\""
   ]
  },
  {
   "cell_type": "code",
   "execution_count": 8,
   "id": "fd999f5e-2fb2-427d-9ff9-c7d0793dff07",
   "metadata": {},
   "outputs": [],
   "source": [
    "text_translated = translator(text,\n",
    "                            src_lang = \"eng_Latn\",\n",
    "                            tgt_lang = \"zho_Hans\") # 简体中文"
   ]
  },
  {
   "cell_type": "markdown",
   "id": "c18e0790-60e2-4a7b-b9d6-b0779dacf65e",
   "metadata": {},
   "source": [
    "For each language, you have a specific string that you need to pass to the translator. You can find the code for each language at the following link.\n",
    "\n",
    "https://github.com/facebookresearch/flores/blob/main/flores200/README.md#languages-in-flores-200"
   ]
  },
  {
   "cell_type": "code",
   "execution_count": 9,
   "id": "ddcea5b7-0edd-40b0-a76e-b5c4d30d4e48",
   "metadata": {},
   "outputs": [
    {
     "data": {
      "text/plain": [
       "[{'translation_text': '我的狗很可爱,你的小猫很可爱,她的熊猫很友好,他的拉马很有心情.我们都有好物!'}]"
      ]
     },
     "execution_count": 9,
     "metadata": {},
     "output_type": "execute_result"
    }
   ],
   "source": [
    "text_translated"
   ]
  },
  {
   "cell_type": "markdown",
   "id": "56962fa3-65ad-403c-9565-6c12d3dff006",
   "metadata": {},
   "source": [
    "### Delete model"
   ]
  },
  {
   "cell_type": "markdown",
   "id": "b3b22522-e233-488c-a9c4-f5792b4554fd",
   "metadata": {},
   "source": [
    "Before moving to the summarization task, let's free some memory by deleting the model and calling the garbage collector. "
   ]
  },
  {
   "cell_type": "code",
   "execution_count": 10,
   "id": "3ba7096c-138f-417e-8992-2e2d984e6a12",
   "metadata": {},
   "outputs": [],
   "source": [
    "import gc"
   ]
  },
  {
   "cell_type": "code",
   "execution_count": 11,
   "id": "8a6a012b-d239-4969-b8cf-a5b5b84e6941",
   "metadata": {},
   "outputs": [],
   "source": [
    "del tranlator"
   ]
  },
  {
   "cell_type": "code",
   "execution_count": 12,
   "id": "7f03acf5-1b47-43f3-a01f-6ce1a8f0c7a2",
   "metadata": {},
   "outputs": [
    {
     "data": {
      "text/plain": [
       "8395"
      ]
     },
     "execution_count": 12,
     "metadata": {},
     "output_type": "execute_result"
    }
   ],
   "source": [
    "gc.collect()"
   ]
  },
  {
   "cell_type": "markdown",
   "id": "91b9b952-03d9-4a78-8032-f383df6618d6",
   "metadata": {},
   "source": [
    "### Summarization\n",
    "\n",
    "To perform the summarization, we will use a model from Meta called 'bart-large-cnn'."
   ]
  },
  {
   "cell_type": "code",
   "execution_count": 14,
   "id": "cc71e277-896b-41c1-9cb1-1cfbc1a4d672",
   "metadata": {},
   "outputs": [
    {
     "name": "stderr",
     "output_type": "stream",
     "text": [
      "Device set to use mps\n"
     ]
    }
   ],
   "source": [
    "summarizer = pipeline(task = \"summarization\",\n",
    "                     model = \"facebook/bart-large-cnn\",\n",
    "                     # torch_dtype = torch.bfloat16, # 使用 BFloat16 精度\n",
    "                     device = \"mps\")"
   ]
  },
  {
   "cell_type": "code",
   "execution_count": 15,
   "id": "848cf8a1-9ed6-40dc-9be3-e91793412868",
   "metadata": {},
   "outputs": [],
   "source": [
    "text = \"\"\"\n",
    "Paris is the capital and most populous city of France, with \n",
    "an estimated population of 2,175,601 residents as of 2018,\n",
    "in an area of more than 105 square kilometres (41 square \n",
    "miles). The City of Paris is the centre and seat of \n",
    "givernment of the region and province of Ile-de-France, or \n",
    "Paris Region, which has an estimated population of \n",
    "12,174,880, or about 18 percent of the population of France \n",
    "as of 2017.\n",
    "\"\"\""
   ]
  },
  {
   "cell_type": "code",
   "execution_count": null,
   "id": "ddf96815-1d20-47f7-a49b-90bd4e5e62ac",
   "metadata": {},
   "outputs": [],
   "source": [
    "summary = summarizer(text,\n",
    "                    min_length)"
   ]
  }
 ],
 "metadata": {
  "kernelspec": {
   "display_name": "Python 3 (ipykernel)",
   "language": "python",
   "name": "python3"
  },
  "language_info": {
   "codemirror_mode": {
    "name": "ipython",
    "version": 3
   },
   "file_extension": ".py",
   "mimetype": "text/x-python",
   "name": "python",
   "nbconvert_exporter": "python",
   "pygments_lexer": "ipython3",
   "version": "3.11.11"
  }
 },
 "nbformat": 4,
 "nbformat_minor": 5
}
