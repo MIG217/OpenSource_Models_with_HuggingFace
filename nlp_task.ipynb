{
 "cells": [
  {
   "cell_type": "markdown",
   "id": "93c77f17-7541-402d-8d94-2de8b623fb01",
   "metadata": {},
   "source": [
    "## Natural Language Processing (NLP)"
   ]
  },
  {
   "cell_type": "markdown",
   "id": "02062ac3-87f8-4f8e-a6aa-14cfef1e4ee2",
   "metadata": {},
   "source": [
    "### Definition\n",
    "\n",
    "NLP is a field of linguistic and machine learning, and it is focused on everything related to human language. \n",
    "\n",
    "We saw significant progress in this field thanks to the **transformer architecture** from the well-known paper **Attention is All You Need** in 2017. And since then, this architecture is now core of many State-Of-The-Art ML models nowadays. \n",
    "\n",
    "State-Of-The-Art (SOTA) ML models” 指的是当前最先进的机器学习模型"
   ]
  },
  {
   "cell_type": "markdown",
   "id": "6d5d7023-f752-495b-84c5-2a7cc4f1d004",
   "metadata": {},
   "source": [
    "In this cookbook, we will be using the `transformers` library, and in particular, the Pipeline function. "
   ]
  },
  {
   "cell_type": "code",
   "execution_count": 3,
   "id": "f87ed720-5b2b-4f0a-adb2-7f62233d3bae",
   "metadata": {},
   "outputs": [],
   "source": [
    "from transformers import pipeline"
   ]
  },
  {
   "cell_type": "code",
   "execution_count": 4,
   "id": "92536871-936e-4c8e-9256-ad87c9bacc76",
   "metadata": {},
   "outputs": [
    {
     "name": "stderr",
     "output_type": "stream",
     "text": [
      "Device set to use mps:0\n"
     ]
    }
   ],
   "source": [
    "chatbot = pipeline(task = \"text2text-generation\", \n",
    "                   model = \"facebook/blenderbot-400M-distill\")"
   ]
  },
  {
   "cell_type": "code",
   "execution_count": 5,
   "id": "01018a7d-a042-480d-acba-05ae1a1cb26e",
   "metadata": {},
   "outputs": [],
   "source": [
    "user_message = \"\"\"\n",
    "What are some fun activaties I can do in the winter?\n",
    "\"\"\""
   ]
  },
  {
   "cell_type": "code",
   "execution_count": 6,
   "id": "93a001d8-d7ee-46f7-9d22-29b4424213ac",
   "metadata": {},
   "outputs": [],
   "source": [
    "conversation = []"
   ]
  },
  {
   "cell_type": "code",
   "execution_count": 7,
   "id": "b8685091-a79c-4639-9eb5-f2c30cb4276c",
   "metadata": {},
   "outputs": [],
   "source": [
    "conversation.append(f\"User: {user_message}\")"
   ]
  },
  {
   "cell_type": "code",
   "execution_count": 8,
   "id": "59b15905-4300-44bb-a779-c2ae7f8e8e93",
   "metadata": {},
   "outputs": [],
   "source": [
    "response = chatbot(user_message)[0]['generated_text']"
   ]
  },
  {
   "cell_type": "code",
   "execution_count": 9,
   "id": "21be4965-1c35-446c-ba76-a6470ad8c090",
   "metadata": {},
   "outputs": [
    {
     "data": {
      "text/plain": [
       "' I love snowboarding and skiing.  What activities do you like to do?'"
      ]
     },
     "execution_count": 9,
     "metadata": {},
     "output_type": "execute_result"
    }
   ],
   "source": [
    "response"
   ]
  },
  {
   "cell_type": "code",
   "execution_count": 10,
   "id": "d0c35328-76e4-485b-93a7-645096225f60",
   "metadata": {},
   "outputs": [],
   "source": [
    "conversation.append(f\"Bot: {response}\")"
   ]
  },
  {
   "cell_type": "code",
   "execution_count": 11,
   "id": "82826a0e-3554-4fad-9484-65e447664790",
   "metadata": {},
   "outputs": [
    {
     "data": {
      "text/plain": [
       "['User: \\nWhat are some fun activaties I can do in the winter?\\n',\n",
       " 'Bot:  I love snowboarding and skiing.  What activities do you like to do?']"
      ]
     },
     "execution_count": 11,
     "metadata": {},
     "output_type": "execute_result"
    }
   ],
   "source": [
    "conversation"
   ]
  },
  {
   "cell_type": "markdown",
   "id": "8fc3b5cd-1092-4152-a89a-2065d8ce29e5",
   "metadata": {},
   "source": [
    "### NLP applications"
   ]
  },
  {
   "cell_type": "markdown",
   "id": "92c490d7-52ed-4f6c-b4fb-d7e11f22b53c",
   "metadata": {},
   "source": [
    "Here are some common NLP tasks:\n",
    "\n",
    "- Text generation\n",
    "- Sentence similarity\n",
    "- Summarization\n",
    "- Machine translation"
   ]
  },
  {
   "cell_type": "code",
   "execution_count": 12,
   "id": "de7c4b09-3c17-4088-a285-975c9b1b4a34",
   "metadata": {},
   "outputs": [],
   "source": [
    "user_message = \"What else do you recommend?\""
   ]
  },
  {
   "cell_type": "code",
   "execution_count": 17,
   "id": "203905e7-62d7-4d4b-b9aa-1ee43abb5d7c",
   "metadata": {},
   "outputs": [],
   "source": [
    "response = chatbot(user_message)[0]['generated_text']"
   ]
  },
  {
   "cell_type": "code",
   "execution_count": 18,
   "id": "7b30692f-ceb3-4087-a4f0-1ee60f7b786d",
   "metadata": {},
   "outputs": [],
   "source": [
    "conversation.append(f\"User: {user_message}\")"
   ]
  },
  {
   "cell_type": "code",
   "execution_count": 19,
   "id": "fa8d7636-898f-45c3-8d30-46680dd70fbd",
   "metadata": {},
   "outputs": [],
   "source": [
    "conversation.append(f\"Bot: {response}\")"
   ]
  },
  {
   "cell_type": "markdown",
   "id": "7493d577-2b4c-4216-9b8f-649b98d667d4",
   "metadata": {},
   "source": [
    "As you can see, the assistant answer has nothing to do with winter activities. **It doesn't remember the earlier conversation.** \n",
    "\n",
    "The right way to do that is to add a message to the conversation. \n",
    "\n",
    "LLMs don't naturally keep a memory of your previous messages, but when you are using transformer object, you can add follow up messages and conversation object will keep your previous prompt as well as the LLM's response. \n",
    "\n",
    "So that the LLM will converse with you as if it remembers your earlier conversation. "
   ]
  },
  {
   "cell_type": "code",
   "execution_count": 20,
   "id": "43177ab9-6c2d-4553-94e5-77332933c013",
   "metadata": {},
   "outputs": [
    {
     "data": {
      "text/plain": [
       "['User: \\nWhat are some fun activaties I can do in the winter?\\n',\n",
       " 'Bot:  I love snowboarding and skiing.  What activities do you like to do?',\n",
       " 'User: What else do you recommend?',\n",
       " \"Bot:  Well, I'm not sure what else I can think of, but I do know that I'm going to miss her.\"]"
      ]
     },
     "execution_count": 20,
     "metadata": {},
     "output_type": "execute_result"
    }
   ],
   "source": [
    "conversation"
   ]
  },
  {
   "cell_type": "code",
   "execution_count": 21,
   "id": "672cbe87-7619-44a7-b292-68dd76c129ef",
   "metadata": {},
   "outputs": [],
   "source": [
    "user_message = \"What can you do?\""
   ]
  },
  {
   "cell_type": "code",
   "execution_count": 22,
   "id": "d60a3788-b828-4692-ac4d-e78f72493874",
   "metadata": {},
   "outputs": [],
   "source": [
    "conversation.append(f\"User: {user_message}\")"
   ]
  },
  {
   "cell_type": "code",
   "execution_count": 26,
   "id": "07308e72-f132-478f-bbd8-9ff37ae194c3",
   "metadata": {},
   "outputs": [
    {
     "data": {
      "text/plain": [
       "['User: \\nWhat are some fun activaties I can do in the winter?\\n',\n",
       " 'Bot:  I love snowboarding and skiing.  What activities do you like to do?',\n",
       " 'User: What else do you recommend?',\n",
       " \"Bot:  Well, I'm not sure what else I can think of, but I do know that I'm going to miss her.\",\n",
       " 'User: What can you do?']"
      ]
     },
     "execution_count": 26,
     "metadata": {},
     "output_type": "execute_result"
    }
   ],
   "source": [
    "conversation"
   ]
  },
  {
   "cell_type": "code",
   "execution_count": 27,
   "id": "49488cb7-fa90-4265-aef9-a4819d8bc441",
   "metadata": {},
   "outputs": [
    {
     "data": {
      "text/plain": [
       "[{'generated_text': ' I like to ski and snowboard.  I also like to snowboard and surf.'}]"
      ]
     },
     "execution_count": 27,
     "metadata": {},
     "output_type": "execute_result"
    }
   ],
   "source": [
    "chatbot(\"\\n\".join(conversation))"
   ]
  },
  {
   "cell_type": "code",
   "execution_count": 28,
   "id": "e7db58fd-e919-4289-ad0f-acd064c8ca95",
   "metadata": {},
   "outputs": [],
   "source": [
    "response = chatbot(\"\\n\".join(conversation))[0]['generated_text']"
   ]
  },
  {
   "cell_type": "code",
   "execution_count": 29,
   "id": "67b52d88-1984-400a-840d-1486b9ff66c8",
   "metadata": {},
   "outputs": [
    {
     "data": {
      "text/plain": [
       "' I like to ski and snowboard.  I also like to snowboard and surf.'"
      ]
     },
     "execution_count": 29,
     "metadata": {},
     "output_type": "execute_result"
    }
   ],
   "source": [
    "response"
   ]
  },
  {
   "cell_type": "code",
   "execution_count": 30,
   "id": "f7120908-ee5c-49cc-9204-0c81d40d4da4",
   "metadata": {},
   "outputs": [],
   "source": [
    "conversation.append(f\"Bot: {response}\")"
   ]
  },
  {
   "cell_type": "code",
   "execution_count": 31,
   "id": "f4a89636-8248-4422-a79d-7f0a6fe6abc7",
   "metadata": {},
   "outputs": [
    {
     "data": {
      "text/plain": [
       "['User: \\nWhat are some fun activaties I can do in the winter?\\n',\n",
       " 'Bot:  I love snowboarding and skiing.  What activities do you like to do?',\n",
       " 'User: What else do you recommend?',\n",
       " \"Bot:  Well, I'm not sure what else I can think of, but I do know that I'm going to miss her.\",\n",
       " 'User: What can you do?',\n",
       " 'Bot:  I like to ski and snowboard.  I also like to snowboard and surf.']"
      ]
     },
     "execution_count": 31,
     "metadata": {},
     "output_type": "execute_result"
    }
   ],
   "source": [
    "conversation"
   ]
  },
  {
   "cell_type": "code",
   "execution_count": null,
   "id": "cf5dc175-ae00-4e09-b7ed-e39e7c7759c0",
   "metadata": {},
   "outputs": [],
   "source": []
  }
 ],
 "metadata": {
  "kernelspec": {
   "display_name": "Python 3 (ipykernel)",
   "language": "python",
   "name": "python3"
  },
  "language_info": {
   "codemirror_mode": {
    "name": "ipython",
    "version": 3
   },
   "file_extension": ".py",
   "mimetype": "text/x-python",
   "name": "python",
   "nbconvert_exporter": "python",
   "pygments_lexer": "ipython3",
   "version": "3.11.11"
  }
 },
 "nbformat": 4,
 "nbformat_minor": 5
}
