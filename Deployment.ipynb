{
 "cells": [
  {
   "cell_type": "markdown",
   "id": "f42e8154-9ea8-453c-abbe-cb6c3566a718",
   "metadata": {},
   "source": [
    "## Deploy ML Models on 🤗 Hub using Gradio"
   ]
  },
  {
   "cell_type": "code",
   "execution_count": 1,
   "id": "b105cd38-405c-4e54-a070-876d68488bd0",
   "metadata": {},
   "outputs": [
    {
     "name": "stderr",
     "output_type": "stream",
     "text": [
      "/opt/anaconda3/envs/langchain/lib/python3.11/site-packages/tqdm/auto.py:21: TqdmWarning: IProgress not found. Please update jupyter and ipywidgets. See https://ipywidgets.readthedocs.io/en/stable/user_install.html\n",
      "  from .autonotebook import tqdm as notebook_tqdm\n"
     ]
    }
   ],
   "source": [
    "from transformers.utils import logging\n",
    "logging.set_verbosity_error()\n",
    "\n",
    "import warnings\n",
    "warnings.filterwarnings(\"ignore\", message= \"Using the model-agnostic default `max_length`\")"
   ]
  },
  {
   "cell_type": "code",
   "execution_count": 2,
   "id": "51400712-e8c6-47f9-b941-ef659618b9ab",
   "metadata": {},
   "outputs": [],
   "source": [
    "import os\n",
    "import gradio as gr\n",
    "from transformers import pipeline"
   ]
  },
  {
   "cell_type": "code",
   "execution_count": 3,
   "id": "444468d0-b28c-42d4-aa4f-f3c2964cb238",
   "metadata": {},
   "outputs": [],
   "source": [
    "pipe = pipeline(\"image-to-text\", model=\"Salesforce/blip-image-captioning-base\")"
   ]
  },
  {
   "cell_type": "code",
   "execution_count": 4,
   "id": "faa12cf2-b9e7-49a4-a03a-10f583ec6e55",
   "metadata": {},
   "outputs": [],
   "source": [
    "def launch(input):\n",
    "    out = pipe(input)\n",
    "    return out[0]['generated_text']"
   ]
  },
  {
   "cell_type": "code",
   "execution_count": 5,
   "id": "b7c0ca3c-2712-435d-84a7-5c7d271a1eff",
   "metadata": {},
   "outputs": [],
   "source": [
    "iface = gr.Interface(launch,\n",
    "                    inputs = gr.Image(type = \"pil\"),\n",
    "                    outputs = \"text\")"
   ]
  },
  {
   "cell_type": "code",
   "execution_count": 6,
   "id": "7210854c-9192-4b68-a13e-81b8f78de5b0",
   "metadata": {},
   "outputs": [
    {
     "name": "stdout",
     "output_type": "stream",
     "text": [
      "* Running on local URL:  http://127.0.0.1:8080\n",
      "\n",
      "Could not create share link. Please check your internet connection or our status page: https://status.gradio.app.\n"
     ]
    },
    {
     "name": "stderr",
     "output_type": "stream",
     "text": [
      "2025/04/09 12:40:13 [W] [service.go:132] login to server failed: read tcp 26.26.26.1:55439->44.237.78.176:7000: read: connection reset by peer\n"
     ]
    },
    {
     "data": {
      "text/html": [
       "<div><iframe src=\"http://127.0.0.1:8080/\" width=\"100%\" height=\"500\" allow=\"autoplay; camera; microphone; clipboard-read; clipboard-write;\" frameborder=\"0\" allowfullscreen></iframe></div>"
      ],
      "text/plain": [
       "<IPython.core.display.HTML object>"
      ]
     },
     "metadata": {},
     "output_type": "display_data"
    },
    {
     "data": {
      "text/plain": []
     },
     "execution_count": 6,
     "metadata": {},
     "output_type": "execute_result"
    }
   ],
   "source": [
    "iface.launch(share = True, server_port=8080)"
   ]
  },
  {
   "cell_type": "code",
   "execution_count": 7,
   "id": "c134b844-ee19-4e14-96d7-d901a1c07851",
   "metadata": {},
   "outputs": [
    {
     "name": "stdout",
     "output_type": "stream",
     "text": [
      "Closing server running on port: 8080\n"
     ]
    }
   ],
   "source": [
    "iface.close()"
   ]
  },
  {
   "cell_type": "code",
   "execution_count": 8,
   "id": "f43b35c9-8d4c-4364-b716-b7f632474b45",
   "metadata": {},
   "outputs": [
    {
     "name": "stdout",
     "output_type": "stream",
     "text": [
      "Loaded as API: https://mig217-blip-image-captioning.hf.space ✔\n",
      "()\n"
     ]
    }
   ],
   "source": [
    "from gradio_client import Client\n",
    "\n",
    "client = Client(\"MIG217/blip-image-captioning\")\n",
    "result = client.predict(\n",
    "\t\tapi_name=\"/lambda\"\n",
    ")\n",
    "print(result)"
   ]
  },
  {
   "cell_type": "code",
   "execution_count": 10,
   "id": "5a07284d-e144-4941-8d99-fa64a7de42fb",
   "metadata": {},
   "outputs": [
    {
     "name": "stdout",
     "output_type": "stream",
     "text": [
      "Loaded as API: https://mig217-blip-image-captioning.hf.space ✔\n",
      "a red bus with a blue stripe on the side\n"
     ]
    }
   ],
   "source": [
    "from gradio_client import Client, handle_file\n",
    "\n",
    "client = Client(\"MIG217/blip-image-captioning\")\n",
    "result = client.predict(\n",
    "\t\tinput=handle_file('https://raw.githubusercontent.com/gradio-app/gradio/main/test/test_files/bus.png'),\n",
    "\t\tapi_name=\"/predict\"\n",
    ")\n",
    "print(result)"
   ]
  },
  {
   "cell_type": "code",
   "execution_count": 13,
   "id": "5f04752e-b749-4cdb-8a09-176ec96852de",
   "metadata": {},
   "outputs": [
    {
     "name": "stdout",
     "output_type": "stream",
     "text": [
      "Client.predict() Usage Info\n",
      "---------------------------\n",
      "Named API endpoints: 2\n",
      "\n",
      " - predict(api_name=\"/lambda\") -> \n",
      "    Parameters:\n",
      "     - None\n",
      "    Returns:\n",
      "     - None\n",
      "\n",
      " - predict(input, api_name=\"/predict\") -> output\n",
      "    Parameters:\n",
      "     - [Image] input: dict(path: str | None (Path to a local file), url: str | None (Publicly available url or base64 encoded image), size: int | None (Size of image in bytes), orig_name: str | None (Original filename), mime_type: str | None (mime type of image), is_stream: bool (Can always be set to False), meta: dict(str, Any)) (required)  (For input, either path or url must be provided. For output, path is always provided.) \n",
      "    Returns:\n",
      "     - [Textbox] output: str \n",
      "\n"
     ]
    }
   ],
   "source": [
    "client.view_api()"
   ]
  },
  {
   "cell_type": "code",
   "execution_count": null,
   "id": "d19a4d9e-e4b6-4ef8-85e5-095869205bcb",
   "metadata": {},
   "outputs": [],
   "source": []
  }
 ],
 "metadata": {
  "kernelspec": {
   "display_name": "Python 3 (ipykernel)",
   "language": "python",
   "name": "python3"
  },
  "language_info": {
   "codemirror_mode": {
    "name": "ipython",
    "version": 3
   },
   "file_extension": ".py",
   "mimetype": "text/x-python",
   "name": "python",
   "nbconvert_exporter": "python",
   "pygments_lexer": "ipython3",
   "version": "3.11.11"
  }
 },
 "nbformat": 4,
 "nbformat_minor": 5
}
