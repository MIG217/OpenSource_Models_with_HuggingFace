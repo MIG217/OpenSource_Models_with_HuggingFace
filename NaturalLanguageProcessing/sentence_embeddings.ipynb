{
 "cells": [
  {
   "cell_type": "markdown",
   "id": "c3b7c1c3-8afc-4a22-989c-7cd6cfb1a6cd",
   "metadata": {},
   "source": [
    "## Sentence Embeddings\n",
    "\n",
    "In this task, I will measure **sentence similarity** using the Sentence Transformers library. \n",
    "\n",
    "**Sentence similarity** measures how close two pieces of text are.\n",
    "\n",
    "For instance, the phrase I like kittens and we love cats have similar meaning. \n",
    "\n",
    "The sentence similarity is particularly useful for information retrieval and clustering or grouping. "
   ]
  },
  {
   "cell_type": "code",
   "execution_count": 1,
   "id": "52fad816-b0ff-42e5-bd15-829d12982c50",
   "metadata": {},
   "outputs": [],
   "source": [
    "from sentence_transformers import SentenceTransformer"
   ]
  },
  {
   "cell_type": "code",
   "execution_count": 2,
   "id": "733a7413-9c98-42cf-838e-bda6bbf3d52a",
   "metadata": {},
   "outputs": [],
   "source": [
    "model = SentenceTransformer(\"all-MiniLM-L6-v2\")"
   ]
  },
  {
   "cell_type": "markdown",
   "id": "d3dbac9f-ab9b-4519-9b6b-e9de9764b7bd",
   "metadata": {},
   "source": [
    "Sentence similarity models convert input text into vectors or so-called embeddings. These embeddings capture semantic information. Let's encode the following sentences."
   ]
  },
  {
   "cell_type": "code",
   "execution_count": 3,
   "id": "7a35d8fa-8559-4b5a-af32-a8807b0eec47",
   "metadata": {},
   "outputs": [],
   "source": [
    "sentences1 = [\n",
    "    'The cat sites outside',\n",
    "    'A man is playing guiter',\n",
    "    'The movies are awesome'\n",
    "]"
   ]
  },
  {
   "cell_type": "code",
   "execution_count": 5,
   "id": "acd489b1-926c-4a6f-9eaf-68fcf9427ce8",
   "metadata": {},
   "outputs": [],
   "source": [
    "embeddings1 = model.encode(sentences1, \n",
    "                         convert_to_tensor = True) # 转换成 PyTorch 的 tensor（张量）格式"
   ]
  },
  {
   "cell_type": "code",
   "execution_count": 6,
   "id": "4b86f61c-5416-4321-becd-83057eaf7fd9",
   "metadata": {},
   "outputs": [
    {
     "data": {
      "text/plain": [
       "tensor([[ 0.1038, -0.0103,  0.0326,  ...,  0.0239, -0.0283,  0.0501],\n",
       "        [ 0.0329, -0.0193, -0.0781,  ..., -0.0264,  0.0059,  0.0584],\n",
       "        [-0.1043, -0.0628,  0.0093,  ...,  0.0020,  0.0653, -0.0150]],\n",
       "       device='mps:0')"
      ]
     },
     "execution_count": 6,
     "metadata": {},
     "output_type": "execute_result"
    }
   ],
   "source": [
    "embeddings1"
   ]
  },
  {
   "cell_type": "code",
   "execution_count": 7,
   "id": "d8dc0290-cbda-44df-8db2-4fb20afb699a",
   "metadata": {},
   "outputs": [],
   "source": [
    "sentences2 = [\n",
    "    'The dog plays in the garden',\n",
    "    'A woman watches TV',\n",
    "    'The new movie is so great'\n",
    "]"
   ]
  },
  {
   "cell_type": "code",
   "execution_count": 8,
   "id": "8f4f9a61-d3e7-411a-82b0-74019611281b",
   "metadata": {},
   "outputs": [],
   "source": [
    "embeddings2 = model.encode(sentences2,\n",
    "                          convert_to_tensor= True)"
   ]
  },
  {
   "cell_type": "code",
   "execution_count": 9,
   "id": "dee57030-205d-454d-af0f-2a0aedb487fa",
   "metadata": {},
   "outputs": [
    {
     "data": {
      "text/plain": [
       "tensor([[ 0.0163, -0.0700,  0.0384,  ...,  0.0447,  0.0254, -0.0023],\n",
       "        [ 0.0054, -0.0920,  0.0140,  ...,  0.0167, -0.0086, -0.0424],\n",
       "        [-0.0842, -0.0592, -0.0010,  ..., -0.0157,  0.0764,  0.0389]],\n",
       "       device='mps:0')"
      ]
     },
     "execution_count": 9,
     "metadata": {},
     "output_type": "execute_result"
    }
   ],
   "source": [
    "embeddings2"
   ]
  },
  {
   "cell_type": "markdown",
   "id": "42be5342-69f0-4f37-9b61-f4778b1a16aa",
   "metadata": {},
   "source": [
    "We can calculate how close these sentences are between them. To do that, we will use the cosine distance, which is measure to calculate how close and how far two vectors are. "
   ]
  },
  {
   "cell_type": "code",
   "execution_count": 10,
   "id": "11f471c6-636d-4d76-9c59-093a61480c3f",
   "metadata": {},
   "outputs": [],
   "source": [
    "from sentence_transformers import util"
   ]
  },
  {
   "cell_type": "code",
   "execution_count": 11,
   "id": "d185a33c-bb47-4b21-b222-6169a33e9018",
   "metadata": {},
   "outputs": [],
   "source": [
    "cosine_scores = util.cos_sim(embeddings1, embeddings2)"
   ]
  },
  {
   "cell_type": "code",
   "execution_count": 12,
   "id": "97a41436-bdbf-44c2-9c22-eab3ddab37ce",
   "metadata": {},
   "outputs": [
    {
     "data": {
      "text/plain": [
       "tensor([[ 0.1943,  0.0136,  0.0320],\n",
       "        [ 0.2211,  0.0165,  0.0141],\n",
       "        [-0.0124, -0.0465,  0.6571]], device='mps:0')"
      ]
     },
     "execution_count": 12,
     "metadata": {},
     "output_type": "execute_result"
    }
   ],
   "source": [
    "cosine_scores"
   ]
  },
  {
   "cell_type": "markdown",
   "id": "24b829d0-54a4-4073-affa-fb1bb86ad7e2",
   "metadata": {},
   "source": [
    "Notice that these are pairwise similarity for every sentence in the first list, to every sentence in the second list. \n",
    "\n",
    "If you look at the diagonal of martix, you will get the similarities between the first sentences of both list. \n",
    "The second element of the diagonal will be the sencond sentences of both lists. \n",
    "And the third element of the diagonal will be the similarities between the third sentences of both lists.\n",
    "\n",
    "Now let's output the score of each pair in both lists."
   ]
  },
  {
   "cell_type": "code",
   "execution_count": 14,
   "id": "13973f53-e7ad-4e52-9e2c-da5d141fde01",
   "metadata": {},
   "outputs": [
    {
     "name": "stdout",
     "output_type": "stream",
     "text": [
      "The cat sites outside \t\t The dog plays in the garden \t\t Score: 0.1943\n",
      "A man is playing guiter \t\t A woman watches TV \t\t Score: 0.0165\n",
      "The movies are awesome \t\t The new movie is so great \t\t Score: 0.6571\n"
     ]
    }
   ],
   "source": [
    "for i in range(len(sentences1)):\n",
    "    print(\"{} \\t\\t {} \\t\\t Score: {:.4f}\".format(sentences1[i],\n",
    "                                                sentences2[i],\n",
    "                                                cosine_scores[i][i]))"
   ]
  },
  {
   "cell_type": "code",
   "execution_count": 16,
   "id": "470753f4-2318-44f9-a508-b48b417ca11b",
   "metadata": {},
   "outputs": [],
   "source": [
    "import seaborn as sns\n",
    "import matplotlib.pyplot as plt"
   ]
  },
  {
   "cell_type": "code",
   "execution_count": 17,
   "id": "e0564d48-901d-4255-a819-3be559c8945d",
   "metadata": {},
   "outputs": [
    {
     "data": {
      "text/plain": [
       "torch.Tensor"
      ]
     },
     "execution_count": 17,
     "metadata": {},
     "output_type": "execute_result"
    }
   ],
   "source": [
    "type(cosine_scores)"
   ]
  },
  {
   "cell_type": "code",
   "execution_count": 19,
   "id": "d94ca42a-ae19-41b1-8b02-78da94dc100c",
   "metadata": {},
   "outputs": [
    {
     "data": {
      "image/png": "[encoded data removed]",
      "text/plain": [
       "<Figure size 800x600 with 2 Axes>"
      ]
     },
     "metadata": {},
     "output_type": "display_data"
    }
   ],
   "source": [
    "plt.figure(figsize=(8, 6))\n",
    "sns.heatmap(cosine_scores.cpu().detach().numpy(), \n",
    "            annot=True, \n",
    "            fmt=\".2f\", \n",
    "            xticklabels=sentences2, yticklabels=sentences1, \n",
    "            cmap=\"YlGnBu\")\n",
    "\n",
    "plt.xticks(rotation=45, ha=\"right\")\n",
    "plt.yticks(rotation=0)\n",
    "\n",
    "plt.show()"
   ]
  },
  {
   "cell_type": "code",
   "execution_count": 20,
   "id": "722b02da-cba0-4ece-97b8-e4252380aa4a",
   "metadata": {},
   "outputs": [],
   "source": [
    "import gc"
   ]
  },
  {
   "cell_type": "code",
   "execution_count": 21,
   "id": "77b665f5-68dc-432a-80a9-b4adbf151072",
   "metadata": {},
   "outputs": [],
   "source": [
    "del model"
   ]
  },
  {
   "cell_type": "code",
   "execution_count": null,
   "id": "5840dd13-cb3b-4b1a-8003-2b2cde1a6764",
   "metadata": {},
   "outputs": [],
   "source": []
  }
 ],
 "metadata": {
  "kernelspec": {
   "display_name": "Python 3 (ipykernel)",
   "language": "python",
   "name": "python3"
  },
  "language_info": {
   "codemirror_mode": {
    "name": "ipython",
    "version": 3
   },
   "file_extension": ".py",
   "mimetype": "text/x-python",
   "name": "python",
   "nbconvert_exporter": "python",
   "pygments_lexer": "ipython3",
   "version": "3.11.11"
  }
 },
 "nbformat": 4,
 "nbformat_minor": 5
}
